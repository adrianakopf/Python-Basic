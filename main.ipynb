{
 "cells": [
  {
   "cell_type": "code",
   "execution_count": 19,
   "metadata": {},
   "outputs": [
    {
     "name": "stdout",
     "output_type": "stream",
     "text": [
      "['Financial Analysis']\n",
      "['-----------------------------------']\n",
      "['Total Months: 86']\n",
      "['Total Revenue: $38382578.0']\n",
      "['Average Profit/Loss Change: $446309.05']\n",
      "['Greatest Increase Profit/Loss: Feb-2012($1170593)']\n",
      "['Greatest Decrease Profit/Loss: Sep-2013($-1196225)']\n",
      "['-----------------------------------']\n"
     ]
    }
   ],
   "source": [
    "#Dependencies\n",
    "import os\n",
    "import csv\n",
    "\n",
    "#variables / initial states\n",
    "date = []\n",
    "money = []\n",
    "sum_total = 0\n",
    "\n",
    "#reading csv\n",
    "with open('budget_data.csv',newline='') as csvfile:\n",
    "    csvreader = csv.reader(csvfile, delimiter=',')\n",
    "    next(csvreader, None)\n",
    "#for loop through data, appends lists, and increases counters\n",
    "    for row in csvreader:\n",
    "        date.append(row[0])\n",
    "        money.append(int(row[1]))\n",
    "        sum_total += float(row[1])\n",
    "        #print(row)\n",
    "\n",
    "#total months\n",
    "months = len(date)\n",
    "\n",
    "#loops through money indices and compares to find greates increase and decrease \n",
    "increase=money[0]\n",
    "decrease=money[0]\n",
    "\n",
    "for i in range(len(money)):\n",
    "    if money[i] >= increase:\n",
    "        increase = money[i]\n",
    "        increase_month = date[i]\n",
    "    elif money[i] <= decrease:\n",
    "        decrease = money[i]\n",
    "        decrease_month = date[i]\n",
    "\n",
    "        \n",
    "#Average Profit/Loss Change\n",
    "avg_money = round(sum_total/months, 2)\n",
    "\n",
    "#Output file and print statments\n",
    "with open('output_financial.txt',\"w\",newline = '') as textfile:\n",
    "    print(\"Financial Analysis\", file = textfile)\n",
    "    print(\"-----------------------------------\", file = textfile)\n",
    "    print(f'Total Months: {months}', file = textfile)\n",
    "    print(f'Total Revenue: ${sum_total}',file = textfile)\n",
    "    print(f'Average Profit/Loss Change: ${avg_money}',file = textfile)\n",
    "    print(f'Greatest Increase Profit/Loss: {increase_month}(${increase})',file = textfile)\n",
    "    print(f'Greatest Decrease Profit/Loss: {decrease_month}(${decrease})',file = textfile)\n",
    "    print(\"-----------------------------------\", file = textfile)\n",
    "\n",
    "with open('output_financial.txt', newline = '') as csvfile:\n",
    "    csvreader = csv.reader(csvfile, delimiter = ',')\n",
    "    for row in csvreader:\n",
    "        print(row)"
   ]
  },
  {
   "cell_type": "code",
   "execution_count": null,
   "metadata": {},
   "outputs": [],
   "source": []
  }
 ],
 "metadata": {
  "kernelspec": {
   "display_name": "Python 3",
   "language": "python",
   "name": "python3"
  },
  "language_info": {
   "codemirror_mode": {
    "name": "ipython",
    "version": 3
   },
   "file_extension": ".py",
   "mimetype": "text/x-python",
   "name": "python",
   "nbconvert_exporter": "python",
   "pygments_lexer": "ipython3",
   "version": "3.7.0"
  }
 },
 "nbformat": 4,
 "nbformat_minor": 2
}
